{
 "cells": [
  {
   "cell_type": "code",
   "execution_count": 10,
   "id": "b06305b2",
   "metadata": {},
   "outputs": [
    {
     "name": "stdout",
     "output_type": "stream",
     "text": [
      "Requirement already satisfied: playsound in c:\\anaconda3\\lib\\site-packages (1.3.0)\n",
      "Note: you may need to restart the kernel to use updated packages.\n"
     ]
    }
   ],
   "source": [
    "pip install playsound"
   ]
  },
  {
   "cell_type": "code",
   "execution_count": 11,
   "id": "06442ab0",
   "metadata": {},
   "outputs": [],
   "source": [
    "from gtts import gTTS\n",
    "from playsound import playsound"
   ]
  },
  {
   "cell_type": "code",
   "execution_count": 12,
   "id": "abf0cc62",
   "metadata": {},
   "outputs": [],
   "source": [
    "audio='speech.mp3'\n",
    "language='en'\n",
    "sp=gTTS(text=\"enter the text which you want to convert into audio file\", lang=language, slow=False)\n",
    "sp.save(audio)\n",
    "playsound(audio)"
   ]
  },
  {
   "cell_type": "markdown",
   "id": "f31fd5bc",
   "metadata": {},
   "source": [
    "# or u can try a simple gtts code to do that"
   ]
  },
  {
   "cell_type": "code",
   "execution_count": 14,
   "id": "8c158c4f",
   "metadata": {},
   "outputs": [],
   "source": [
    "from gtts import gTTS\n",
    "tts = gTTS('Rohit Kumar Yadav')\n",
    "tts.save('hello.mp3')"
   ]
  },
  {
   "cell_type": "code",
   "execution_count": null,
   "id": "9ebf16d5",
   "metadata": {},
   "outputs": [],
   "source": []
  }
 ],
 "metadata": {
  "kernelspec": {
   "display_name": "Python 3",
   "language": "python",
   "name": "python3"
  },
  "language_info": {
   "codemirror_mode": {
    "name": "ipython",
    "version": 3
   },
   "file_extension": ".py",
   "mimetype": "text/x-python",
   "name": "python",
   "nbconvert_exporter": "python",
   "pygments_lexer": "ipython3",
   "version": "3.8.8"
  }
 },
 "nbformat": 4,
 "nbformat_minor": 5
}
