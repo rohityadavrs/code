{
 "cells": [
  {
   "cell_type": "code",
   "execution_count": 1,
   "id": "90db0c40",
   "metadata": {},
   "outputs": [],
   "source": [
    "import random \n",
    "\n",
    "import pyautogui as pg\n",
    "\n",
    "import time "
   ]
  },
  {
   "cell_type": "code",
   "execution_count": 2,
   "id": "58ed81c1",
   "metadata": {},
   "outputs": [],
   "source": [
    "animal=('tum iti cute kaise ho','koi ita cute kaise ho sakta h','koi ek aar tumhe dekh le to as dekhta rah jaye')\n",
    "\n",
    "time.sleep(8)\n",
    "\n",
    "for i in range (50):\n",
    "  a=random.choice(animal)\n",
    "  pg.write(a)\n",
    "  pg.press('enter')"
   ]
  },
  {
   "cell_type": "code",
   "execution_count": null,
   "id": "87fe1a3e",
   "metadata": {},
   "outputs": [],
   "source": []
  }
 ],
 "metadata": {
  "kernelspec": {
   "display_name": "Python 3",
   "language": "python",
   "name": "python3"
  },
  "language_info": {
   "codemirror_mode": {
    "name": "ipython",
    "version": 3
   },
   "file_extension": ".py",
   "mimetype": "text/x-python",
   "name": "python",
   "nbconvert_exporter": "python",
   "pygments_lexer": "ipython3",
   "version": "3.8.8"
  }
 },
 "nbformat": 4,
 "nbformat_minor": 5
}
